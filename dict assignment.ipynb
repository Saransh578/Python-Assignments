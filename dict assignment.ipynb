{
 "cells": [
  {
   "cell_type": "code",
   "execution_count": 1,
   "metadata": {},
   "outputs": [
    {
     "data": {
      "text/plain": [
       "{'Name': 'Srikanth',\n",
       " 'Gender': 'Male',\n",
       " 'Occupation': 'Data Scientist',\n",
       " 'Location': 'Hyderabad'}"
      ]
     },
     "execution_count": 1,
     "metadata": {},
     "output_type": "execute_result"
    }
   ],
   "source": [
    "person1 = {'Name':'Srikanth','Gender':'Male','Occupation': 'Data Scientist',\n",
    " 'Location': 'Hyderabad'}\n",
    "person1"
   ]
  },
  {
   "cell_type": "code",
   "execution_count": 2,
   "metadata": {},
   "outputs": [
    {
     "data": {
      "text/plain": [
       "{'Name': 'Srikanth',\n",
       " 'Gender': 'Male',\n",
       " 'Occupation': 'Data Scientist',\n",
       " 'Location': 'Hyderabad',\n",
       " 'Age': 30}"
      ]
     },
     "execution_count": 2,
     "metadata": {},
     "output_type": "execute_result"
    }
   ],
   "source": [
    "person1['Age'] = 30\n",
    "person1"
   ]
  },
  {
   "cell_type": "code",
   "execution_count": 3,
   "metadata": {},
   "outputs": [
    {
     "data": {
      "text/plain": [
       "{'Name': 'Srikanth',\n",
       " 'Gender': 'Male',\n",
       " 'Occupation': 'Data Scientist',\n",
       " 'Age': 30}"
      ]
     },
     "execution_count": 3,
     "metadata": {},
     "output_type": "execute_result"
    }
   ],
   "source": [
    "person1.pop('Location')\n",
    "person1\n"
   ]
  },
  {
   "cell_type": "code",
   "execution_count": 4,
   "metadata": {},
   "outputs": [
    {
     "data": {
      "text/plain": [
       "{'Name': 'Sara', 'Gender': 'Female', 'Age': 25, 'Occupation': 'Analyst'}"
      ]
     },
     "execution_count": 4,
     "metadata": {},
     "output_type": "execute_result"
    }
   ],
   "source": [
    "person2 = {'Name':'Sara',\n",
    "          'Gender':'Female',\n",
    "          'Age':25,\n",
    "          'Occupation':'Analyst'}\n",
    "person2"
   ]
  },
  {
   "cell_type": "code",
   "execution_count": 5,
   "metadata": {},
   "outputs": [
    {
     "name": "stdout",
     "output_type": "stream",
     "text": [
      "==================== person1 ====================\n",
      "{'Name': 'Srikanth', 'Gender': 'Male', 'Occupation': 'Data Scientist', 'Age': 30}\n",
      "==================== person2 ====================\n",
      "{'Name': 'Sara', 'Gender': 'Female', 'Age': 25, 'Occupation': 'Analyst'}\n"
     ]
    }
   ],
   "source": [
    "print('='*20,'person1','='*20)\n",
    "print(person1)\n",
    "print('='*20,'person2','='*20)\n",
    "print(person2)"
   ]
  },
  {
   "cell_type": "code",
   "execution_count": 10,
   "metadata": {},
   "outputs": [
    {
     "data": {
      "text/plain": [
       "{'Name': ['Srikanth', 'Sara'],\n",
       " 'Gender': ['Male', 'Female'],\n",
       " 'Occupation': ['Data Scientist', 'Analyst'],\n",
       " 'Age': [30, 25]}"
      ]
     },
     "execution_count": 10,
     "metadata": {},
     "output_type": "execute_result"
    }
   ],
   "source": [
    "#please explain how to do this\n",
    "person = {'Name': ['Srikanth', 'Sara'],\n",
    " 'Gender': ['Male', 'Female'],\n",
    " 'Occupation': ['Data Scientist', 'Analyst'],\n",
    " 'Age': [30, 25]}\n",
    "person"
   ]
  },
  {
   "cell_type": "code",
   "execution_count": 9,
   "metadata": {},
   "outputs": [
    {
     "data": {
      "text/html": [
       "<div>\n",
       "<style scoped>\n",
       "    .dataframe tbody tr th:only-of-type {\n",
       "        vertical-align: middle;\n",
       "    }\n",
       "\n",
       "    .dataframe tbody tr th {\n",
       "        vertical-align: top;\n",
       "    }\n",
       "\n",
       "    .dataframe thead th {\n",
       "        text-align: right;\n",
       "    }\n",
       "</style>\n",
       "<table border=\"1\" class=\"dataframe\">\n",
       "  <thead>\n",
       "    <tr style=\"text-align: right;\">\n",
       "      <th></th>\n",
       "      <th>Name</th>\n",
       "      <th>Gender</th>\n",
       "      <th>Occupation</th>\n",
       "      <th>Age</th>\n",
       "    </tr>\n",
       "  </thead>\n",
       "  <tbody>\n",
       "    <tr>\n",
       "      <th>0</th>\n",
       "      <td>Srikanth</td>\n",
       "      <td>Male</td>\n",
       "      <td>Data Scientist</td>\n",
       "      <td>30</td>\n",
       "    </tr>\n",
       "    <tr>\n",
       "      <th>1</th>\n",
       "      <td>Sara</td>\n",
       "      <td>Female</td>\n",
       "      <td>Analyst</td>\n",
       "      <td>25</td>\n",
       "    </tr>\n",
       "  </tbody>\n",
       "</table>\n",
       "</div>"
      ],
      "text/plain": [
       "       Name  Gender      Occupation  Age\n",
       "0  Srikanth    Male  Data Scientist   30\n",
       "1      Sara  Female         Analyst   25"
      ]
     },
     "execution_count": 9,
     "metadata": {},
     "output_type": "execute_result"
    }
   ],
   "source": [
    "import pandas as pd\n",
    "pd.DataFrame(person)"
   ]
  },
  {
   "cell_type": "code",
   "execution_count": null,
   "metadata": {},
   "outputs": [],
   "source": []
  }
 ],
 "metadata": {
  "kernelspec": {
   "display_name": "Python 3",
   "language": "python",
   "name": "python3"
  },
  "language_info": {
   "codemirror_mode": {
    "name": "ipython",
    "version": 3
   },
   "file_extension": ".py",
   "mimetype": "text/x-python",
   "name": "python",
   "nbconvert_exporter": "python",
   "pygments_lexer": "ipython3",
   "version": "3.8.3"
  }
 },
 "nbformat": 4,
 "nbformat_minor": 4
}
